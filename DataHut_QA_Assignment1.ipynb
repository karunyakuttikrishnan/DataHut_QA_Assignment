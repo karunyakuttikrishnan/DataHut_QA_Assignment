{
 "cells": [
  {
   "cell_type": "markdown",
   "id": "052eefb7-2a3a-4129-954a-91b8b2300f93",
   "metadata": {},
   "source": [
    "# DATAHUT QA ASSIGNMENT"
   ]
  },
  {
   "cell_type": "markdown",
   "id": "16cb06f7-963b-4cb6-b7ae-00f3152c3988",
   "metadata": {},
   "source": [
    "**Submitted by :** Karunya K"
   ]
  },
  {
   "cell_type": "markdown",
   "id": "b8fa5048-dd52-4bed-a29a-f010451ce7c9",
   "metadata": {},
   "source": [
    "## Table of contents"
   ]
  },
  {
   "cell_type": "markdown",
   "id": "1c44c9a9-ae30-464b-aad6-21811424ccc4",
   "metadata": {},
   "source": [
    "**1. Load Data**"
   ]
  },
  {
   "cell_type": "markdown",
   "id": "2c9430d7-f29a-4572-9089-6bb108b11b9d",
   "metadata": {},
   "source": [
    "**2.Inspect Data**"
   ]
  },
  {
   "cell_type": "markdown",
   "id": "92d910cc-944c-432e-8662-7cc26b01a588",
   "metadata": {},
   "source": [
    "**3.Removing unwanted columns**"
   ]
  },
  {
   "cell_type": "markdown",
   "id": "4ac14029-1b61-4bb1-af8c-7ecceb30040d",
   "metadata": {},
   "source": [
    "**4.Removing Duplicates**"
   ]
  },
  {
   "cell_type": "markdown",
   "id": "31d286e6-0f61-4f05-ad43-6c95ae7098b8",
   "metadata": {},
   "source": [
    "**5. Dropping rows with null values in \"Name\" and \"Join Date\"**"
   ]
  },
  {
   "cell_type": "markdown",
   "id": "6d5f67b2-94e9-42cb-ad3e-8d762f234978",
   "metadata": {},
   "source": [
    "**6. Clean Department Field**"
   ]
  },
  {
   "cell_type": "markdown",
   "id": "50372a64-14b7-4426-96b6-0c50ecfef34d",
   "metadata": {},
   "source": [
    "**7. Handling Null Values in \"Age\" and \"Salary\"**"
   ]
  },
  {
   "cell_type": "markdown",
   "id": "f367ef11-08df-4d2a-b391-0854abcc073c",
   "metadata": {},
   "source": [
    "**8. Handling Null Values in \"Department\"**"
   ]
  },
  {
   "cell_type": "markdown",
   "id": "05991490-c42a-436c-8313-2c76eba193c2",
   "metadata": {},
   "source": [
    "**9. Handling \"Name\" Field Errors**"
   ]
  },
  {
   "cell_type": "markdown",
   "id": "c0527c0d-185e-44a0-8fd2-7d9809e29a32",
   "metadata": {},
   "source": [
    "**10. Handling \"Email\" Field Errors**"
   ]
  },
  {
   "cell_type": "markdown",
   "id": "c1dca5a2-d49e-4096-bd83-cca6746da1df",
   "metadata": {},
   "source": [
    "**11. Correct the date format to \"YYYY-MM-DD\"**"
   ]
  },
  {
   "cell_type": "markdown",
   "id": "c573a9ae-281f-4e25-842d-d69f66a19c08",
   "metadata": {},
   "source": [
    "**12. Handle Noise in \"Salary Column\"**"
   ]
  },
  {
   "cell_type": "markdown",
   "id": "968c2484-b25e-4a74-b7cb-86d9c2c1689d",
   "metadata": {},
   "source": [
    "**13. Download the cleaned data**"
   ]
  },
  {
   "cell_type": "markdown",
   "id": "8aaf0f9e-203c-42f9-80cf-97bf6cd3ccc7",
   "metadata": {},
   "source": [
    "### 1. Load Data"
   ]
  },
  {
   "cell_type": "code",
   "execution_count": 4,
   "id": "68959212-cca7-498e-ae72-f5ee1d6dd051",
   "metadata": {},
   "outputs": [
    {
     "data": {
      "text/html": [
       "<div>\n",
       "<style scoped>\n",
       "    .dataframe tbody tr th:only-of-type {\n",
       "        vertical-align: middle;\n",
       "    }\n",
       "\n",
       "    .dataframe tbody tr th {\n",
       "        vertical-align: top;\n",
       "    }\n",
       "\n",
       "    .dataframe thead th {\n",
       "        text-align: right;\n",
       "    }\n",
       "</style>\n",
       "<table border=\"1\" class=\"dataframe\">\n",
       "  <thead>\n",
       "    <tr style=\"text-align: right;\">\n",
       "      <th></th>\n",
       "      <th>Unnamed: 0</th>\n",
       "      <th>ID</th>\n",
       "      <th>Name</th>\n",
       "      <th>Age</th>\n",
       "      <th>Email</th>\n",
       "      <th>Join Date</th>\n",
       "      <th>Salary</th>\n",
       "      <th>Department</th>\n",
       "    </tr>\n",
       "  </thead>\n",
       "  <tbody>\n",
       "    <tr>\n",
       "      <th>0</th>\n",
       "      <td>0</td>\n",
       "      <td>1e407ff9-6255-489d-a0de-34135d4f74bd</td>\n",
       "      <td>Hunter Thomas</td>\n",
       "      <td>25.0</td>\n",
       "      <td>xlopez@hotmail.com</td>\n",
       "      <td>NaN</td>\n",
       "      <td>88552.0</td>\n",
       "      <td>Sales</td>\n",
       "    </tr>\n",
       "    <tr>\n",
       "      <th>1</th>\n",
       "      <td>1</td>\n",
       "      <td>379f55b8-87d5-4739-a146-7400b78c24d1</td>\n",
       "      <td>Jeremy Irwin</td>\n",
       "      <td>90.0</td>\n",
       "      <td>Jillian Jenkins</td>\n",
       "      <td>2022-07-07</td>\n",
       "      <td>139227.0</td>\n",
       "      <td>NaN</td>\n",
       "    </tr>\n",
       "    <tr>\n",
       "      <th>2</th>\n",
       "      <td>2</td>\n",
       "      <td>18261368-dfa1-47f0-afc6-bddf45926b07</td>\n",
       "      <td>Jennifer Hammondquickly</td>\n",
       "      <td>66.0</td>\n",
       "      <td>jscottgreen.biz</td>\n",
       "      <td>2023-11-21</td>\n",
       "      <td>65550.0</td>\n",
       "      <td>Engineering</td>\n",
       "    </tr>\n",
       "    <tr>\n",
       "      <th>3</th>\n",
       "      <td>3</td>\n",
       "      <td>ae7cf7cf-17cf-4c8b-9c44-4f61a9a238e5</td>\n",
       "      <td>Sydney Taylorso</td>\n",
       "      <td>39.0</td>\n",
       "      <td>luke56gonzalez.com</td>\n",
       "      <td>2021-11-05</td>\n",
       "      <td>139932.0</td>\n",
       "      <td>SupportJ</td>\n",
       "    </tr>\n",
       "    <tr>\n",
       "      <th>4</th>\n",
       "      <td>4</td>\n",
       "      <td>14ed3e6a-e0f5-4bbe-8d93-8665267f5c90</td>\n",
       "      <td>Julia Lee</td>\n",
       "      <td>71.0</td>\n",
       "      <td>figueroakayla@yahoo.com</td>\n",
       "      <td>NaN</td>\n",
       "      <td>143456.0</td>\n",
       "      <td>Marketing</td>\n",
       "    </tr>\n",
       "  </tbody>\n",
       "</table>\n",
       "</div>"
      ],
      "text/plain": [
       "   Unnamed: 0                                    ID                     Name  \\\n",
       "0           0  1e407ff9-6255-489d-a0de-34135d4f74bd            Hunter Thomas   \n",
       "1           1  379f55b8-87d5-4739-a146-7400b78c24d1             Jeremy Irwin   \n",
       "2           2  18261368-dfa1-47f0-afc6-bddf45926b07  Jennifer Hammondquickly   \n",
       "3           3  ae7cf7cf-17cf-4c8b-9c44-4f61a9a238e5          Sydney Taylorso   \n",
       "4           4  14ed3e6a-e0f5-4bbe-8d93-8665267f5c90                Julia Lee   \n",
       "\n",
       "    Age                    Email   Join Date    Salary   Department  \n",
       "0  25.0       xlopez@hotmail.com         NaN   88552.0        Sales  \n",
       "1  90.0          Jillian Jenkins  2022-07-07  139227.0          NaN  \n",
       "2  66.0          jscottgreen.biz  2023-11-21   65550.0  Engineering  \n",
       "3  39.0       luke56gonzalez.com  2021-11-05  139932.0     SupportJ  \n",
       "4  71.0  figueroakayla@yahoo.com         NaN  143456.0    Marketing  "
      ]
     },
     "execution_count": 4,
     "metadata": {},
     "output_type": "execute_result"
    }
   ],
   "source": [
    "import pandas as pd\n",
    "\n",
    "df1=pd.read_csv(\"messy_data.csv\")\n",
    "df1.head()"
   ]
  },
  {
   "cell_type": "markdown",
   "id": "93f777fd-bda3-4537-a679-e0df5f1606eb",
   "metadata": {},
   "source": [
    "### 2. Inspect Data"
   ]
  },
  {
   "cell_type": "code",
   "execution_count": 5,
   "id": "eb6114ee-fe97-4adf-8898-e5ba8387a5a8",
   "metadata": {},
   "outputs": [
    {
     "data": {
      "text/plain": [
       "Index(['Unnamed: 0', 'ID', 'Name', 'Age', 'Email', 'Join Date', 'Salary',\n",
       "       'Department'],\n",
       "      dtype='object')"
      ]
     },
     "execution_count": 5,
     "metadata": {},
     "output_type": "execute_result"
    }
   ],
   "source": [
    "df1.columns # display the columns"
   ]
  },
  {
   "cell_type": "code",
   "execution_count": 6,
   "id": "829b2edd-ca16-4fee-8ee4-10ce77cefd58",
   "metadata": {},
   "outputs": [
    {
     "data": {
      "text/plain": [
       "(11000, 8)"
      ]
     },
     "execution_count": 6,
     "metadata": {},
     "output_type": "execute_result"
    }
   ],
   "source": [
    "df1.shape # display no. of columns and rows"
   ]
  },
  {
   "cell_type": "code",
   "execution_count": 7,
   "id": "a99a3ce4-6992-48b0-a971-f48d5751af91",
   "metadata": {},
   "outputs": [
    {
     "name": "stdout",
     "output_type": "stream",
     "text": [
      "<class 'pandas.core.frame.DataFrame'>\n",
      "RangeIndex: 11000 entries, 0 to 10999\n",
      "Data columns (total 8 columns):\n",
      " #   Column      Non-Null Count  Dtype  \n",
      "---  ------      --------------  -----  \n",
      " 0   Unnamed: 0  11000 non-null  int64  \n",
      " 1   ID          11000 non-null  object \n",
      " 2   Name        8667 non-null   object \n",
      " 3   Age         9253 non-null   float64\n",
      " 4   Email       9731 non-null   object \n",
      " 5   Join Date   8808 non-null   object \n",
      " 6   Salary      8761 non-null   float64\n",
      " 7   Department  8745 non-null   object \n",
      "dtypes: float64(2), int64(1), object(5)\n",
      "memory usage: 687.6+ KB\n"
     ]
    }
   ],
   "source": [
    "df1.info()"
   ]
  },
  {
   "cell_type": "code",
   "execution_count": 8,
   "id": "a939f92d-cb61-475a-84c3-45c6957c5994",
   "metadata": {},
   "outputs": [
    {
     "data": {
      "text/plain": [
       "Unnamed: 0       0\n",
       "ID               0\n",
       "Name          2333\n",
       "Age           1747\n",
       "Email         1269\n",
       "Join Date     2192\n",
       "Salary        2239\n",
       "Department    2255\n",
       "dtype: int64"
      ]
     },
     "execution_count": 8,
     "metadata": {},
     "output_type": "execute_result"
    }
   ],
   "source": [
    "df1.isnull().sum() #Checking null values in each column"
   ]
  },
  {
   "cell_type": "code",
   "execution_count": 9,
   "id": "0289d6af-70ab-4819-a2fe-7a8020a2b80b",
   "metadata": {},
   "outputs": [
    {
     "data": {
      "text/plain": [
       "291"
      ]
     },
     "execution_count": 9,
     "metadata": {},
     "output_type": "execute_result"
    }
   ],
   "source": [
    "df1.duplicated().sum() #Checking duplicate values"
   ]
  },
  {
   "cell_type": "markdown",
   "id": "d672fcb6-64fe-46a2-b703-293b6eedbae5",
   "metadata": {},
   "source": [
    "### 3. Dropping unwanted column"
   ]
  },
  {
   "cell_type": "code",
   "execution_count": 10,
   "id": "e545d7e6-52fb-4984-be9e-c2bf58ceebbb",
   "metadata": {},
   "outputs": [],
   "source": [
    "df1.drop([\"Unnamed: 0\"],axis=1,inplace=True)  # drop unwanted column"
   ]
  },
  {
   "cell_type": "markdown",
   "id": "38f3f48c-bde0-4469-8c98-c0c7ea6d9afb",
   "metadata": {},
   "source": [
    "### 4. Removing Duplicates"
   ]
  },
  {
   "cell_type": "code",
   "execution_count": 11,
   "id": "51cbb0db-9a5f-4074-9066-588d84a6cc6f",
   "metadata": {},
   "outputs": [],
   "source": [
    "df2=df1.drop_duplicates() # dropping duplicate rows"
   ]
  },
  {
   "cell_type": "markdown",
   "id": "4da842aa-2013-4c32-9976-f8c716239fb8",
   "metadata": {},
   "source": [
    "### 5. Dropping rows with null values in \"Name\" and \"Join Date\""
   ]
  },
  {
   "cell_type": "code",
   "execution_count": 12,
   "id": "1565e39b-669d-4ee1-93c9-91167983d753",
   "metadata": {},
   "outputs": [],
   "source": [
    "df3 = df2.dropna(subset=[ 'Join Date',\"Name\"]) #drop rows where Name,Join Date is null"
   ]
  },
  {
   "cell_type": "markdown",
   "id": "0dec401f-4cec-41bd-8782-ece05f768e71",
   "metadata": {},
   "source": [
    "### 6. Clean Department Field"
   ]
  },
  {
   "cell_type": "code",
   "execution_count": 23,
   "id": "1eea5642-cfec-40d0-ad68-032f76207dea",
   "metadata": {},
   "outputs": [
    {
     "name": "stderr",
     "output_type": "stream",
     "text": [
      "C:\\Users\\karun\\AppData\\Local\\Temp\\ipykernel_20676\\3185466913.py:1: SettingWithCopyWarning: \n",
      "A value is trying to be set on a copy of a slice from a DataFrame.\n",
      "Try using .loc[row_indexer,col_indexer] = value instead\n",
      "\n",
      "See the caveats in the documentation: https://pandas.pydata.org/pandas-docs/stable/user_guide/indexing.html#returning-a-view-versus-a-copy\n",
      "  df3['Department'] = df3['Department'].str.replace(r'\\bSupport[a-zA-Z]\\b', 'Support', regex=True)\n",
      "C:\\Users\\karun\\AppData\\Local\\Temp\\ipykernel_20676\\3185466913.py:2: SettingWithCopyWarning: \n",
      "A value is trying to be set on a copy of a slice from a DataFrame.\n",
      "Try using .loc[row_indexer,col_indexer] = value instead\n",
      "\n",
      "See the caveats in the documentation: https://pandas.pydata.org/pandas-docs/stable/user_guide/indexing.html#returning-a-view-versus-a-copy\n",
      "  df3['Department'] = df3['Department'].str.replace(r'\\bMarketing[a-zA-Z]\\b', 'Marketing', regex=True)\n",
      "C:\\Users\\karun\\AppData\\Local\\Temp\\ipykernel_20676\\3185466913.py:3: SettingWithCopyWarning: \n",
      "A value is trying to be set on a copy of a slice from a DataFrame.\n",
      "Try using .loc[row_indexer,col_indexer] = value instead\n",
      "\n",
      "See the caveats in the documentation: https://pandas.pydata.org/pandas-docs/stable/user_guide/indexing.html#returning-a-view-versus-a-copy\n",
      "  df3['Department'] = df3['Department'].str.replace(r'\\bHR[a-zA-Z]\\b', 'HR', regex=True)\n",
      "C:\\Users\\karun\\AppData\\Local\\Temp\\ipykernel_20676\\3185466913.py:4: SettingWithCopyWarning: \n",
      "A value is trying to be set on a copy of a slice from a DataFrame.\n",
      "Try using .loc[row_indexer,col_indexer] = value instead\n",
      "\n",
      "See the caveats in the documentation: https://pandas.pydata.org/pandas-docs/stable/user_guide/indexing.html#returning-a-view-versus-a-copy\n",
      "  df3['Department'] = df3['Department'].str.replace(r'\\bEngineering[a-zA-Z]\\b', 'Engineering', regex=True)\n",
      "C:\\Users\\karun\\AppData\\Local\\Temp\\ipykernel_20676\\3185466913.py:5: SettingWithCopyWarning: \n",
      "A value is trying to be set on a copy of a slice from a DataFrame.\n",
      "Try using .loc[row_indexer,col_indexer] = value instead\n",
      "\n",
      "See the caveats in the documentation: https://pandas.pydata.org/pandas-docs/stable/user_guide/indexing.html#returning-a-view-versus-a-copy\n",
      "  df3['Department'] = df3['Department'].str.replace(r'\\bSales[a-zA-Z]\\b', 'Sales', regex=True)\n",
      "C:\\Users\\karun\\AppData\\Local\\Temp\\ipykernel_20676\\3185466913.py:6: SettingWithCopyWarning: \n",
      "A value is trying to be set on a copy of a slice from a DataFrame.\n",
      "Try using .loc[row_indexer,col_indexer] = value instead\n",
      "\n",
      "See the caveats in the documentation: https://pandas.pydata.org/pandas-docs/stable/user_guide/indexing.html#returning-a-view-versus-a-copy\n",
      "  df3['Department'] = df3['Department'].str.replace(r'\\bnan\\b',\"NaN\", regex=True)\n"
     ]
    },
    {
     "data": {
      "text/plain": [
       "array([nan, 'Engineering', 'Support', 'HR', 'Sales', 'Marketing'],\n",
       "      dtype=object)"
      ]
     },
     "execution_count": 23,
     "metadata": {},
     "output_type": "execute_result"
    }
   ],
   "source": [
    "df3['Department'] = df3['Department'].str.replace(r'\\bSupport[a-zA-Z]\\b', 'Support', regex=True)\n",
    "df3['Department'] = df3['Department'].str.replace(r'\\bMarketing[a-zA-Z]\\b', 'Marketing', regex=True)\n",
    "df3['Department'] = df3['Department'].str.replace(r'\\bHR[a-zA-Z]\\b', 'HR', regex=True)\n",
    "df3['Department'] = df3['Department'].str.replace(r'\\bEngineering[a-zA-Z]\\b', 'Engineering', regex=True)\n",
    "df3['Department'] = df3['Department'].str.replace(r'\\bSales[a-zA-Z]\\b', 'Sales', regex=True)\n",
    "df3['Department'] = df3['Department'].str.replace(r'\\bnan\\b',\"NaN\", regex=True)\n",
    "\n",
    "\n",
    "df3['Department'].unique()"
   ]
  },
  {
   "cell_type": "markdown",
   "id": "c29d1448-18f2-453a-b1fc-ceb7da87b0b4",
   "metadata": {},
   "source": [
    "### 7. Handling Null Values in \"Age\" and \"Salary\""
   ]
  },
  {
   "cell_type": "code",
   "execution_count": 14,
   "id": "7947d663-4aed-4c9b-b5ec-5eb99a758e32",
   "metadata": {},
   "outputs": [
    {
     "name": "stderr",
     "output_type": "stream",
     "text": [
      "C:\\Users\\karun\\AppData\\Local\\Temp\\ipykernel_20676\\2361413380.py:1: SettingWithCopyWarning: \n",
      "A value is trying to be set on a copy of a slice from a DataFrame.\n",
      "Try using .loc[row_indexer,col_indexer] = value instead\n",
      "\n",
      "See the caveats in the documentation: https://pandas.pydata.org/pandas-docs/stable/user_guide/indexing.html#returning-a-view-versus-a-copy\n",
      "  df3[\"Salary\"]=df3[\"Salary\"].fillna(df3[\"Salary\"].mean())\n"
     ]
    }
   ],
   "source": [
    "df3[\"Salary\"]=df3[\"Salary\"].fillna(df3[\"Salary\"].mean())"
   ]
  },
  {
   "cell_type": "code",
   "execution_count": 15,
   "id": "458bbee8-833c-41ff-ac79-1ce2ea15eaeb",
   "metadata": {},
   "outputs": [
    {
     "name": "stderr",
     "output_type": "stream",
     "text": [
      "C:\\Users\\karun\\AppData\\Local\\Temp\\ipykernel_20676\\797346174.py:1: SettingWithCopyWarning: \n",
      "A value is trying to be set on a copy of a slice from a DataFrame.\n",
      "Try using .loc[row_indexer,col_indexer] = value instead\n",
      "\n",
      "See the caveats in the documentation: https://pandas.pydata.org/pandas-docs/stable/user_guide/indexing.html#returning-a-view-versus-a-copy\n",
      "  df3[\"Age\"]=df3[\"Age\"].fillna(df3[\"Age\"].mean())\n",
      "C:\\Users\\karun\\AppData\\Local\\Temp\\ipykernel_20676\\797346174.py:2: SettingWithCopyWarning: \n",
      "A value is trying to be set on a copy of a slice from a DataFrame.\n",
      "Try using .loc[row_indexer,col_indexer] = value instead\n",
      "\n",
      "See the caveats in the documentation: https://pandas.pydata.org/pandas-docs/stable/user_guide/indexing.html#returning-a-view-versus-a-copy\n",
      "  df3[\"Age\"]=df3['Age'].round().astype(int)\n"
     ]
    }
   ],
   "source": [
    "df3[\"Age\"]=df3[\"Age\"].fillna(df3[\"Age\"].mean())\n",
    "df3[\"Age\"]=df3['Age'].round().astype(int)\n",
    "#df3"
   ]
  },
  {
   "cell_type": "markdown",
   "id": "216bb7fe-e4cb-4a5b-a84e-0a9456e5e326",
   "metadata": {},
   "source": [
    "### 8. Handling Null Values in \"Department\""
   ]
  },
  {
   "cell_type": "code",
   "execution_count": 26,
   "id": "01c09162-fbd5-443d-9567-952bbe2ebe97",
   "metadata": {},
   "outputs": [
    {
     "name": "stderr",
     "output_type": "stream",
     "text": [
      "C:\\Users\\karun\\AppData\\Local\\Temp\\ipykernel_20676\\2858483771.py:1: SettingWithCopyWarning: \n",
      "A value is trying to be set on a copy of a slice from a DataFrame.\n",
      "Try using .loc[row_indexer,col_indexer] = value instead\n",
      "\n",
      "See the caveats in the documentation: https://pandas.pydata.org/pandas-docs/stable/user_guide/indexing.html#returning-a-view-versus-a-copy\n",
      "  df3[\"Department\"]=df3[\"Department\"].fillna(df3[\"Department\"].mode().iloc[0])\n"
     ]
    }
   ],
   "source": [
    "df3[\"Department\"]=df3[\"Department\"].fillna(df3[\"Department\"].mode().iloc[0])"
   ]
  },
  {
   "cell_type": "code",
   "execution_count": 27,
   "id": "0aec9cc0-08b4-412f-be41-f4f051a64b52",
   "metadata": {},
   "outputs": [
    {
     "data": {
      "text/plain": [
       "ID            0\n",
       "Name          0\n",
       "Age           0\n",
       "Email         0\n",
       "Join Date     0\n",
       "Salary        0\n",
       "Department    0\n",
       "dtype: int64"
      ]
     },
     "execution_count": 27,
     "metadata": {},
     "output_type": "execute_result"
    }
   ],
   "source": [
    "df3.isnull().sum() #Checking null values in each column"
   ]
  },
  {
   "cell_type": "markdown",
   "id": "79b405be-176b-4b59-b775-ef2221d208e4",
   "metadata": {},
   "source": [
    "### 9. Handling \"Name\" Field Errors"
   ]
  },
  {
   "cell_type": "code",
   "execution_count": 29,
   "id": "6c3d45f3-2d9b-44ab-bc73-7c43d3e528ff",
   "metadata": {},
   "outputs": [
    {
     "name": "stderr",
     "output_type": "stream",
     "text": [
      "C:\\Users\\karun\\AppData\\Local\\Temp\\ipykernel_20676\\3815793363.py:2: SettingWithCopyWarning: \n",
      "A value is trying to be set on a copy of a slice from a DataFrame.\n",
      "Try using .loc[row_indexer,col_indexer] = value instead\n",
      "\n",
      "See the caveats in the documentation: https://pandas.pydata.org/pandas-docs/stable/user_guide/indexing.html#returning-a-view-versus-a-copy\n",
      "  df3[['First_Name', 'Middle_Name', 'Last_Name']] = df3['Name'].str.split(expand=True, n=2)\n",
      "C:\\Users\\karun\\AppData\\Local\\Temp\\ipykernel_20676\\3815793363.py:2: SettingWithCopyWarning: \n",
      "A value is trying to be set on a copy of a slice from a DataFrame.\n",
      "Try using .loc[row_indexer,col_indexer] = value instead\n",
      "\n",
      "See the caveats in the documentation: https://pandas.pydata.org/pandas-docs/stable/user_guide/indexing.html#returning-a-view-versus-a-copy\n",
      "  df3[['First_Name', 'Middle_Name', 'Last_Name']] = df3['Name'].str.split(expand=True, n=2)\n",
      "C:\\Users\\karun\\AppData\\Local\\Temp\\ipykernel_20676\\3815793363.py:2: SettingWithCopyWarning: \n",
      "A value is trying to be set on a copy of a slice from a DataFrame.\n",
      "Try using .loc[row_indexer,col_indexer] = value instead\n",
      "\n",
      "See the caveats in the documentation: https://pandas.pydata.org/pandas-docs/stable/user_guide/indexing.html#returning-a-view-versus-a-copy\n",
      "  df3[['First_Name', 'Middle_Name', 'Last_Name']] = df3['Name'].str.split(expand=True, n=2)\n",
      "C:\\Users\\karun\\AppData\\Local\\Temp\\ipykernel_20676\\3815793363.py:5: SettingWithCopyWarning: \n",
      "A value is trying to be set on a copy of a slice from a DataFrame.\n",
      "Try using .loc[row_indexer,col_indexer] = value instead\n",
      "\n",
      "See the caveats in the documentation: https://pandas.pydata.org/pandas-docs/stable/user_guide/indexing.html#returning-a-view-versus-a-copy\n",
      "  df3['Middle_Name'] = df3['Middle_Name'].fillna('')\n"
     ]
    }
   ],
   "source": [
    "# Split the 'Full_Name' column into parts\n",
    "df3[['First_Name', 'Middle_Name', 'Last_Name']] = df3['Name'].str.split(expand=True, n=2)\n",
    "\n",
    "# Handle cases where Middle_Name might be NaN (for names with no middle name)\n",
    "df3['Middle_Name'] = df3['Middle_Name'].fillna('')\n",
    "\n",
    "#df3"
   ]
  },
  {
   "cell_type": "code",
   "execution_count": 30,
   "id": "2a086ce6-3698-42a7-9db5-75bdbbb7f7cc",
   "metadata": {},
   "outputs": [
    {
     "data": {
      "text/html": [
       "<div>\n",
       "<style scoped>\n",
       "    .dataframe tbody tr th:only-of-type {\n",
       "        vertical-align: middle;\n",
       "    }\n",
       "\n",
       "    .dataframe tbody tr th {\n",
       "        vertical-align: top;\n",
       "    }\n",
       "\n",
       "    .dataframe thead th {\n",
       "        text-align: right;\n",
       "    }\n",
       "</style>\n",
       "<table border=\"1\" class=\"dataframe\">\n",
       "  <thead>\n",
       "    <tr style=\"text-align: right;\">\n",
       "      <th></th>\n",
       "      <th>ID</th>\n",
       "      <th>Name</th>\n",
       "      <th>Age</th>\n",
       "      <th>Email</th>\n",
       "      <th>Join Date</th>\n",
       "      <th>Salary</th>\n",
       "      <th>Department</th>\n",
       "      <th>First_Name</th>\n",
       "      <th>Middle_Name</th>\n",
       "      <th>Last_Name</th>\n",
       "    </tr>\n",
       "  </thead>\n",
       "  <tbody>\n",
       "    <tr>\n",
       "      <th>2</th>\n",
       "      <td>18261368-dfa1-47f0-afc6-bddf45926b07</td>\n",
       "      <td>Jennifer Hammondquickly</td>\n",
       "      <td>66</td>\n",
       "      <td>jscottgreen.biz</td>\n",
       "      <td>2023-11-21</td>\n",
       "      <td>65550.000000</td>\n",
       "      <td>Engineering</td>\n",
       "      <td>Jennifer</td>\n",
       "      <td>Hammondquickly</td>\n",
       "      <td>None</td>\n",
       "    </tr>\n",
       "    <tr>\n",
       "      <th>27</th>\n",
       "      <td>2f99edc1-c0e7-4963-8b33-09465a2ac68f</td>\n",
       "      <td>Christina Norriscompare</td>\n",
       "      <td>84</td>\n",
       "      <td>haleygary@yahoo.com</td>\n",
       "      <td>2021-07-17</td>\n",
       "      <td>92668.000000</td>\n",
       "      <td>Engineering</td>\n",
       "      <td>Christina</td>\n",
       "      <td>Norriscompare</td>\n",
       "      <td>None</td>\n",
       "    </tr>\n",
       "    <tr>\n",
       "      <th>44</th>\n",
       "      <td>507c693e-8fa6-4583-82f8-8eae20d66be7</td>\n",
       "      <td>Evan Martinezimportant</td>\n",
       "      <td>34</td>\n",
       "      <td>tanyaglass@yahoo.com</td>\n",
       "      <td>01/01/2017</td>\n",
       "      <td>150059.398950</td>\n",
       "      <td>Sales</td>\n",
       "      <td>Evan</td>\n",
       "      <td>Martinezimportant</td>\n",
       "      <td>None</td>\n",
       "    </tr>\n",
       "    <tr>\n",
       "      <th>71</th>\n",
       "      <td>ca130e73-2fc6-4c24-aaaa-3b08038f2666</td>\n",
       "      <td>Allison Mcknighttrip</td>\n",
       "      <td>90</td>\n",
       "      <td>hsmith@munoz-snyder.com</td>\n",
       "      <td>2022-12-24</td>\n",
       "      <td>105919.658059</td>\n",
       "      <td>HR</td>\n",
       "      <td>Allison</td>\n",
       "      <td>Mcknighttrip</td>\n",
       "      <td>None</td>\n",
       "    </tr>\n",
       "    <tr>\n",
       "      <th>92</th>\n",
       "      <td>4b928463-0c4e-4923-8970-a9de2df2a8d4</td>\n",
       "      <td>Haley Montoyapolicy</td>\n",
       "      <td>74</td>\n",
       "      <td>mark45@gmail.com</td>\n",
       "      <td>2023-04-16</td>\n",
       "      <td>89801.000000</td>\n",
       "      <td>Marketing</td>\n",
       "      <td>Haley</td>\n",
       "      <td>Montoyapolicy</td>\n",
       "      <td>None</td>\n",
       "    </tr>\n",
       "    <tr>\n",
       "      <th>...</th>\n",
       "      <td>...</td>\n",
       "      <td>...</td>\n",
       "      <td>...</td>\n",
       "      <td>...</td>\n",
       "      <td>...</td>\n",
       "      <td>...</td>\n",
       "      <td>...</td>\n",
       "      <td>...</td>\n",
       "      <td>...</td>\n",
       "      <td>...</td>\n",
       "    </tr>\n",
       "    <tr>\n",
       "      <th>10950</th>\n",
       "      <td>76c941d6-020e-4432-a22c-442f4d6aaf15</td>\n",
       "      <td>Vicki Franklinespecially</td>\n",
       "      <td>54</td>\n",
       "      <td>janet39@yahoo.com</td>\n",
       "      <td>2020-08-27</td>\n",
       "      <td>123546.000000</td>\n",
       "      <td>Marketing</td>\n",
       "      <td>Vicki</td>\n",
       "      <td>Franklinespecially</td>\n",
       "      <td>None</td>\n",
       "    </tr>\n",
       "    <tr>\n",
       "      <th>10965</th>\n",
       "      <td>26148a39-38be-48f2-94dc-bf07b7377604</td>\n",
       "      <td>Joshua Mckinneyaccount</td>\n",
       "      <td>44</td>\n",
       "      <td>donna81nguyen-ward.com</td>\n",
       "      <td>19/12/1975</td>\n",
       "      <td>131708.486582</td>\n",
       "      <td>Sales</td>\n",
       "      <td>Joshua</td>\n",
       "      <td>Mckinneyaccount</td>\n",
       "      <td>None</td>\n",
       "    </tr>\n",
       "    <tr>\n",
       "      <th>10977</th>\n",
       "      <td>f197eeea-6d40-44b9-ab25-abdde24dec54</td>\n",
       "      <td>Nicholas Chavezsituation</td>\n",
       "      <td>86</td>\n",
       "      <td>cjohnsonhotmail.com</td>\n",
       "      <td>16/11/1979</td>\n",
       "      <td>29196.703578</td>\n",
       "      <td>Marketing</td>\n",
       "      <td>Nicholas</td>\n",
       "      <td>Chavezsituation</td>\n",
       "      <td>None</td>\n",
       "    </tr>\n",
       "    <tr>\n",
       "      <th>10991</th>\n",
       "      <td>612011e6-101d-4ee2-bbca-16a5056d8217</td>\n",
       "      <td>Jeffrey Elliottnation</td>\n",
       "      <td>72</td>\n",
       "      <td>jpatterson@wise.org</td>\n",
       "      <td>2021-08-05</td>\n",
       "      <td>50510.777098</td>\n",
       "      <td>Support</td>\n",
       "      <td>Jeffrey</td>\n",
       "      <td>Elliottnation</td>\n",
       "      <td>None</td>\n",
       "    </tr>\n",
       "    <tr>\n",
       "      <th>10993</th>\n",
       "      <td>796f8c0b-15a4-475c-bb02-ac892df0c746</td>\n",
       "      <td>Shelley Hopkinslive</td>\n",
       "      <td>79</td>\n",
       "      <td>Michael Walker</td>\n",
       "      <td>25/12/1992</td>\n",
       "      <td>47809.000000</td>\n",
       "      <td>HR</td>\n",
       "      <td>Shelley</td>\n",
       "      <td>Hopkinslive</td>\n",
       "      <td>None</td>\n",
       "    </tr>\n",
       "  </tbody>\n",
       "</table>\n",
       "<p>1048 rows × 10 columns</p>\n",
       "</div>"
      ],
      "text/plain": [
       "                                         ID                      Name  Age  \\\n",
       "2      18261368-dfa1-47f0-afc6-bddf45926b07   Jennifer Hammondquickly   66   \n",
       "27     2f99edc1-c0e7-4963-8b33-09465a2ac68f   Christina Norriscompare   84   \n",
       "44     507c693e-8fa6-4583-82f8-8eae20d66be7    Evan Martinezimportant   34   \n",
       "71     ca130e73-2fc6-4c24-aaaa-3b08038f2666      Allison Mcknighttrip   90   \n",
       "92     4b928463-0c4e-4923-8970-a9de2df2a8d4       Haley Montoyapolicy   74   \n",
       "...                                     ...                       ...  ...   \n",
       "10950  76c941d6-020e-4432-a22c-442f4d6aaf15  Vicki Franklinespecially   54   \n",
       "10965  26148a39-38be-48f2-94dc-bf07b7377604    Joshua Mckinneyaccount   44   \n",
       "10977  f197eeea-6d40-44b9-ab25-abdde24dec54  Nicholas Chavezsituation   86   \n",
       "10991  612011e6-101d-4ee2-bbca-16a5056d8217     Jeffrey Elliottnation   72   \n",
       "10993  796f8c0b-15a4-475c-bb02-ac892df0c746       Shelley Hopkinslive   79   \n",
       "\n",
       "                         Email   Join Date         Salary   Department  \\\n",
       "2              jscottgreen.biz  2023-11-21   65550.000000  Engineering   \n",
       "27         haleygary@yahoo.com  2021-07-17   92668.000000  Engineering   \n",
       "44        tanyaglass@yahoo.com  01/01/2017  150059.398950        Sales   \n",
       "71     hsmith@munoz-snyder.com  2022-12-24  105919.658059           HR   \n",
       "92            mark45@gmail.com  2023-04-16   89801.000000    Marketing   \n",
       "...                        ...         ...            ...          ...   \n",
       "10950        janet39@yahoo.com  2020-08-27  123546.000000    Marketing   \n",
       "10965   donna81nguyen-ward.com  19/12/1975  131708.486582        Sales   \n",
       "10977      cjohnsonhotmail.com  16/11/1979   29196.703578    Marketing   \n",
       "10991      jpatterson@wise.org  2021-08-05   50510.777098      Support   \n",
       "10993           Michael Walker  25/12/1992   47809.000000           HR   \n",
       "\n",
       "      First_Name         Middle_Name Last_Name  \n",
       "2       Jennifer      Hammondquickly      None  \n",
       "27     Christina       Norriscompare      None  \n",
       "44          Evan   Martinezimportant      None  \n",
       "71       Allison        Mcknighttrip      None  \n",
       "92         Haley       Montoyapolicy      None  \n",
       "...          ...                 ...       ...  \n",
       "10950      Vicki  Franklinespecially      None  \n",
       "10965     Joshua     Mckinneyaccount      None  \n",
       "10977   Nicholas     Chavezsituation      None  \n",
       "10991    Jeffrey       Elliottnation      None  \n",
       "10993    Shelley         Hopkinslive      None  \n",
       "\n",
       "[1048 rows x 10 columns]"
      ]
     },
     "execution_count": 30,
     "metadata": {},
     "output_type": "execute_result"
    }
   ],
   "source": [
    "filtered_df = df3[df3['Middle_Name'].apply(lambda x: len(x) > 10)] #Extract rows with middle name length is more than 10\n",
    "filtered_df"
   ]
  },
  {
   "cell_type": "code",
   "execution_count": 31,
   "id": "e080a143-b829-45a7-81f6-a4aa062d3564",
   "metadata": {},
   "outputs": [
    {
     "name": "stderr",
     "output_type": "stream",
     "text": [
      "C:\\Users\\karun\\AppData\\Local\\Temp\\ipykernel_20676\\3545874408.py:1: SettingWithCopyWarning: \n",
      "A value is trying to be set on a copy of a slice from a DataFrame\n",
      "\n",
      "See the caveats in the documentation: https://pandas.pydata.org/pandas-docs/stable/user_guide/indexing.html#returning-a-view-versus-a-copy\n",
      "  df3.drop(filtered_df.index, inplace=True) #drop rows with middlename length more than 10\n"
     ]
    }
   ],
   "source": [
    "df3.drop(filtered_df.index, inplace=True) #drop rows with middlename length more than 10"
   ]
  },
  {
   "cell_type": "code",
   "execution_count": 32,
   "id": "12205235-ed73-4bc5-a9b9-8449436cfb0b",
   "metadata": {},
   "outputs": [
    {
     "name": "stderr",
     "output_type": "stream",
     "text": [
      "C:\\Users\\karun\\AppData\\Local\\Temp\\ipykernel_20676\\2967353707.py:2: SettingWithCopyWarning: \n",
      "A value is trying to be set on a copy of a slice from a DataFrame\n",
      "\n",
      "See the caveats in the documentation: https://pandas.pydata.org/pandas-docs/stable/user_guide/indexing.html#returning-a-view-versus-a-copy\n",
      "  df3.drop(columns=['Middle_Name'], inplace=True)\n",
      "C:\\Users\\karun\\AppData\\Local\\Temp\\ipykernel_20676\\2967353707.py:3: SettingWithCopyWarning: \n",
      "A value is trying to be set on a copy of a slice from a DataFrame\n",
      "\n",
      "See the caveats in the documentation: https://pandas.pydata.org/pandas-docs/stable/user_guide/indexing.html#returning-a-view-versus-a-copy\n",
      "  df3.drop(columns=['First_Name'], inplace=True)\n",
      "C:\\Users\\karun\\AppData\\Local\\Temp\\ipykernel_20676\\2967353707.py:4: SettingWithCopyWarning: \n",
      "A value is trying to be set on a copy of a slice from a DataFrame\n",
      "\n",
      "See the caveats in the documentation: https://pandas.pydata.org/pandas-docs/stable/user_guide/indexing.html#returning-a-view-versus-a-copy\n",
      "  df3.drop(columns=['Last_Name'], inplace=True)\n"
     ]
    }
   ],
   "source": [
    "#Drop all columns first name middle name and last name\n",
    "df3.drop(columns=['Middle_Name'], inplace=True)\n",
    "df3.drop(columns=['First_Name'], inplace=True)\n",
    "df3.drop(columns=['Last_Name'], inplace=True)"
   ]
  },
  {
   "cell_type": "markdown",
   "id": "5b0078d7-1d91-4ac0-a0ff-1ca93a4a5d25",
   "metadata": {},
   "source": [
    "### 10. Handling \"Email\" Field Errors"
   ]
  },
  {
   "cell_type": "code",
   "execution_count": 33,
   "id": "be6da773-4f0e-4d1e-b403-406798c03453",
   "metadata": {},
   "outputs": [
    {
     "data": {
      "text/html": [
       "<div>\n",
       "<style scoped>\n",
       "    .dataframe tbody tr th:only-of-type {\n",
       "        vertical-align: middle;\n",
       "    }\n",
       "\n",
       "    .dataframe tbody tr th {\n",
       "        vertical-align: top;\n",
       "    }\n",
       "\n",
       "    .dataframe thead th {\n",
       "        text-align: right;\n",
       "    }\n",
       "</style>\n",
       "<table border=\"1\" class=\"dataframe\">\n",
       "  <thead>\n",
       "    <tr style=\"text-align: right;\">\n",
       "      <th></th>\n",
       "      <th>ID</th>\n",
       "      <th>Name</th>\n",
       "      <th>Age</th>\n",
       "      <th>Email</th>\n",
       "      <th>Join Date</th>\n",
       "      <th>Salary</th>\n",
       "      <th>Department</th>\n",
       "    </tr>\n",
       "  </thead>\n",
       "  <tbody>\n",
       "    <tr>\n",
       "      <th>5</th>\n",
       "      <td>f92ea13f-24d3-4792-91e4-5b0e07d90c2c</td>\n",
       "      <td>Lisa Bailey</td>\n",
       "      <td>81</td>\n",
       "      <td>milleryvonne@fowler-york.com</td>\n",
       "      <td>15/10/2016</td>\n",
       "      <td>123018.000000</td>\n",
       "      <td>Support</td>\n",
       "    </tr>\n",
       "    <tr>\n",
       "      <th>9</th>\n",
       "      <td>d06f507d-62e5-4bd6-a252-4e60e109d324</td>\n",
       "      <td>Jay Fisher</td>\n",
       "      <td>44</td>\n",
       "      <td>denisemaynard@jordan.com</td>\n",
       "      <td>2022-12-08</td>\n",
       "      <td>37701.725993</td>\n",
       "      <td>HR</td>\n",
       "    </tr>\n",
       "    <tr>\n",
       "      <th>12</th>\n",
       "      <td>da63d159-e9b0-4b92-b0fe-4e87df3aebc1</td>\n",
       "      <td>Amber Marsh</td>\n",
       "      <td>23</td>\n",
       "      <td>robert43@gmail.com</td>\n",
       "      <td>2023-09-08</td>\n",
       "      <td>112970.000000</td>\n",
       "      <td>Engineering</td>\n",
       "    </tr>\n",
       "    <tr>\n",
       "      <th>13</th>\n",
       "      <td>5ca27087-5c90-4d42-94d0-7e9ee3f422b9</td>\n",
       "      <td>Patrick Mooney</td>\n",
       "      <td>57</td>\n",
       "      <td>bowersjasmine@hotmail.com</td>\n",
       "      <td>2023-06-24</td>\n",
       "      <td>41511.139646</td>\n",
       "      <td>Sales</td>\n",
       "    </tr>\n",
       "    <tr>\n",
       "      <th>14</th>\n",
       "      <td>9b83a5e5-9516-493f-86f8-d6c445edb501</td>\n",
       "      <td>Nicole Cardenas</td>\n",
       "      <td>60</td>\n",
       "      <td>griffinlinda@harrison.com</td>\n",
       "      <td>16/10/2003</td>\n",
       "      <td>51625.814403</td>\n",
       "      <td>Marketing</td>\n",
       "    </tr>\n",
       "    <tr>\n",
       "      <th>...</th>\n",
       "      <td>...</td>\n",
       "      <td>...</td>\n",
       "      <td>...</td>\n",
       "      <td>...</td>\n",
       "      <td>...</td>\n",
       "      <td>...</td>\n",
       "      <td>...</td>\n",
       "    </tr>\n",
       "    <tr>\n",
       "      <th>10984</th>\n",
       "      <td>e198cca1-70c0-465d-8459-82f5b0e71163</td>\n",
       "      <td>Alexandra Hansen</td>\n",
       "      <td>38</td>\n",
       "      <td>weavermary@yahoo.com</td>\n",
       "      <td>2022-02-13</td>\n",
       "      <td>67036.000000</td>\n",
       "      <td>Marketing</td>\n",
       "    </tr>\n",
       "    <tr>\n",
       "      <th>10985</th>\n",
       "      <td>f82d65c8-f4bb-485f-8dc5-2e454fda6fad</td>\n",
       "      <td>Curtis Moses</td>\n",
       "      <td>46</td>\n",
       "      <td>michaelthompson@powell-coleman.com</td>\n",
       "      <td>2022-11-21</td>\n",
       "      <td>36596.000000</td>\n",
       "      <td>Marketing</td>\n",
       "    </tr>\n",
       "    <tr>\n",
       "      <th>10989</th>\n",
       "      <td>4d450808-7caf-432e-bf65-385e715b43fe</td>\n",
       "      <td>Richard Leonard</td>\n",
       "      <td>58</td>\n",
       "      <td>luis19@gmail.com</td>\n",
       "      <td>01/05/1982</td>\n",
       "      <td>103005.000000</td>\n",
       "      <td>HR</td>\n",
       "    </tr>\n",
       "    <tr>\n",
       "      <th>10990</th>\n",
       "      <td>10c26512-ce3a-4387-b71a-47768503562e</td>\n",
       "      <td>Kimberly Cummings</td>\n",
       "      <td>54</td>\n",
       "      <td>rmccoy@hall.com</td>\n",
       "      <td>2020-06-11</td>\n",
       "      <td>60950.500220</td>\n",
       "      <td>Marketing</td>\n",
       "    </tr>\n",
       "    <tr>\n",
       "      <th>10997</th>\n",
       "      <td>ed19c966-d6d8-4047-b410-b6e595a39340</td>\n",
       "      <td>Stephanie Riossell</td>\n",
       "      <td>54</td>\n",
       "      <td>robert96@pollard-frye.com</td>\n",
       "      <td>15/08/2006</td>\n",
       "      <td>122609.594149</td>\n",
       "      <td>HR</td>\n",
       "    </tr>\n",
       "  </tbody>\n",
       "</table>\n",
       "<p>4031 rows × 7 columns</p>\n",
       "</div>"
      ],
      "text/plain": [
       "                                         ID                Name  Age  \\\n",
       "5      f92ea13f-24d3-4792-91e4-5b0e07d90c2c         Lisa Bailey   81   \n",
       "9      d06f507d-62e5-4bd6-a252-4e60e109d324          Jay Fisher   44   \n",
       "12     da63d159-e9b0-4b92-b0fe-4e87df3aebc1         Amber Marsh   23   \n",
       "13     5ca27087-5c90-4d42-94d0-7e9ee3f422b9      Patrick Mooney   57   \n",
       "14     9b83a5e5-9516-493f-86f8-d6c445edb501     Nicole Cardenas   60   \n",
       "...                                     ...                 ...  ...   \n",
       "10984  e198cca1-70c0-465d-8459-82f5b0e71163    Alexandra Hansen   38   \n",
       "10985  f82d65c8-f4bb-485f-8dc5-2e454fda6fad        Curtis Moses   46   \n",
       "10989  4d450808-7caf-432e-bf65-385e715b43fe     Richard Leonard   58   \n",
       "10990  10c26512-ce3a-4387-b71a-47768503562e   Kimberly Cummings   54   \n",
       "10997  ed19c966-d6d8-4047-b410-b6e595a39340  Stephanie Riossell   54   \n",
       "\n",
       "                                    Email   Join Date         Salary  \\\n",
       "5            milleryvonne@fowler-york.com  15/10/2016  123018.000000   \n",
       "9                denisemaynard@jordan.com  2022-12-08   37701.725993   \n",
       "12                     robert43@gmail.com  2023-09-08  112970.000000   \n",
       "13              bowersjasmine@hotmail.com  2023-06-24   41511.139646   \n",
       "14              griffinlinda@harrison.com  16/10/2003   51625.814403   \n",
       "...                                   ...         ...            ...   \n",
       "10984                weavermary@yahoo.com  2022-02-13   67036.000000   \n",
       "10985  michaelthompson@powell-coleman.com  2022-11-21   36596.000000   \n",
       "10989                    luis19@gmail.com  01/05/1982  103005.000000   \n",
       "10990                     rmccoy@hall.com  2020-06-11   60950.500220   \n",
       "10997           robert96@pollard-frye.com  15/08/2006  122609.594149   \n",
       "\n",
       "        Department  \n",
       "5          Support  \n",
       "9               HR  \n",
       "12     Engineering  \n",
       "13           Sales  \n",
       "14       Marketing  \n",
       "...            ...  \n",
       "10984    Marketing  \n",
       "10985    Marketing  \n",
       "10989           HR  \n",
       "10990    Marketing  \n",
       "10997           HR  \n",
       "\n",
       "[4031 rows x 7 columns]"
      ]
     },
     "execution_count": 33,
     "metadata": {},
     "output_type": "execute_result"
    }
   ],
   "source": [
    "email_pattern = r'^[a-zA-Z0-9._%+-]+@[a-zA-Z0-9.-]+\\.com'\n",
    "\n",
    "# Keep rows where the Email column matches the email pattern (valid emails)\n",
    "df_cleaned = df3[df3['Email'].str.match(email_pattern)]\n",
    "\n",
    "# Display the DataFrame after removing invalid emails\n",
    "df_cleaned"
   ]
  },
  {
   "cell_type": "markdown",
   "id": "e7e946e4-f23e-49a4-a5ad-46914f39319c",
   "metadata": {},
   "source": [
    "### 11. Correct the date format to \"YYYY-MM-DD\""
   ]
  },
  {
   "cell_type": "code",
   "execution_count": 34,
   "id": "8d8f4e91-0e38-472b-8e6b-f54557754cdc",
   "metadata": {},
   "outputs": [
    {
     "name": "stderr",
     "output_type": "stream",
     "text": [
      "C:\\Users\\karun\\AppData\\Local\\Temp\\ipykernel_20676\\3662735970.py:27: SettingWithCopyWarning: \n",
      "A value is trying to be set on a copy of a slice from a DataFrame.\n",
      "Try using .loc[row_indexer,col_indexer] = value instead\n",
      "\n",
      "See the caveats in the documentation: https://pandas.pydata.org/pandas-docs/stable/user_guide/indexing.html#returning-a-view-versus-a-copy\n",
      "  df3['Join Date'] = df3['Join Date'].apply(convert_date)\n"
     ]
    }
   ],
   "source": [
    "# Function to convert dates in various formats to 'yyyy-mm-dd'\n",
    "def convert_date(date_str):\n",
    "    # Define possible date formats\n",
    "    formats = [\n",
    "        \"%d-%m-%Y\",  # dd-mm-yyyy\n",
    "        \"%d/%m/%Y\",  # dd/mm/yyyy\n",
    "        \"%Y/%d/%m\",  # yyyy/dd/mm\n",
    "        \"%d-%m-%y\",   # dd-mm-yy\n",
    "        \"%d/%m/%y\",   # dd/mm/yy\n",
    "        \"%Y-%m-%d\",    #yyyy-mm-dd\n",
    "        \"%m/%d/%y\"\n",
    "    ]\n",
    "    \n",
    "    # Attempt to convert using the defined formats\n",
    "    for fmt in formats:\n",
    "        try:\n",
    "            # Try to convert to datetime\n",
    "            dt = pd.to_datetime(date_str, format=fmt, dayfirst=True)\n",
    "            return dt.strftime('%Y-%m-%d')  # Return formatted date\n",
    "        except (ValueError, TypeError):\n",
    "            continue  # If conversion fails, try the next format\n",
    "    \n",
    "    # If all formats fail, return None or keep original string as needed\n",
    "    return None\n",
    "\n",
    "# Apply the conversion function to the Date column\n",
    "df3['Join Date'] = df3['Join Date'].apply(convert_date)"
   ]
  },
  {
   "cell_type": "markdown",
   "id": "354bd0d0-57c6-410e-b736-d89298c97c11",
   "metadata": {},
   "source": [
    "### 12. Handle Noise in \"Salary Column\""
   ]
  },
  {
   "cell_type": "code",
   "execution_count": 35,
   "id": "78237b91-d779-4fb4-875e-643a419cf51e",
   "metadata": {},
   "outputs": [
    {
     "data": {
      "text/plain": [
       "90001.56236872036"
      ]
     },
     "execution_count": 35,
     "metadata": {},
     "output_type": "execute_result"
    }
   ],
   "source": [
    "df3['Salary'].mean()"
   ]
  },
  {
   "cell_type": "code",
   "execution_count": 36,
   "id": "32b298cd-e49d-4802-a560-b24d5d264f75",
   "metadata": {},
   "outputs": [
    {
     "data": {
      "text/plain": [
       "90031.47018829067"
      ]
     },
     "execution_count": 36,
     "metadata": {},
     "output_type": "execute_result"
    }
   ],
   "source": [
    "df3['Salary'].median()"
   ]
  },
  {
   "cell_type": "markdown",
   "id": "af5e8b58-a347-49ab-a04a-03677c939ffe",
   "metadata": {},
   "source": [
    "##### Since mean and median are almost the same, There are no outliers in salary column"
   ]
  },
  {
   "cell_type": "markdown",
   "id": "25dd3f0d-9bdf-4d70-8acf-b708b8d74a05",
   "metadata": {},
   "source": [
    "### 13. Download the cleaned data"
   ]
  },
  {
   "cell_type": "code",
   "execution_count": 37,
   "id": "378efb90-5806-44b8-aa1e-c3b3fd322198",
   "metadata": {},
   "outputs": [],
   "source": [
    "df3.to_csv('DataHut.csv', index=False)"
   ]
  },
  {
   "cell_type": "code",
   "execution_count": null,
   "id": "a681be51-9104-4a00-b777-ed059dd1d6ed",
   "metadata": {},
   "outputs": [],
   "source": []
  }
 ],
 "metadata": {
  "kernelspec": {
   "display_name": "Python 3 (ipykernel)",
   "language": "python",
   "name": "python3"
  },
  "language_info": {
   "codemirror_mode": {
    "name": "ipython",
    "version": 3
   },
   "file_extension": ".py",
   "mimetype": "text/x-python",
   "name": "python",
   "nbconvert_exporter": "python",
   "pygments_lexer": "ipython3",
   "version": "3.11.5"
  }
 },
 "nbformat": 4,
 "nbformat_minor": 5
}
